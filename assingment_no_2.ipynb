{
 "cells": [
  {
   "cell_type": "markdown",
   "id": "ongoing-hierarchy",
   "metadata": {},
   "source": [
    " # 1. How to iterate over rows in Pandas Dataframe"
   ]
  },
  {
   "cell_type": "code",
   "execution_count": null,
   "id": "mineral-tanzania",
   "metadata": {},
   "outputs": [],
   "source": [
    "Let’s see the how to iterate over rows in Pandas Dataframe using inerrows() and itertuples() :\n",
    "\n",
    "Method #1: Using the DataFrame.iterrows() method\n",
    "\n",
    "This method iterated over the rows as (index, series) pairs."
   ]
  },
  {
   "cell_type": "code",
   "execution_count": 1,
   "id": "immediate-wright",
   "metadata": {},
   "outputs": [
    {
     "name": "stdout",
     "output_type": "stream",
     "text": [
      "Original DataFrame: \n",
      "      name  age\n",
      "0  Sujeet   10\n",
      "1  Sameer   11\n",
      "2   Sumit   12\n",
      "\n",
      "Rows iterated using iterrows() : \n",
      "Sujeet 10\n",
      "Sameer 11\n",
      "Sumit 12\n"
     ]
    }
   ],
   "source": [
    "import pandas as pd\n",
    "  \n",
    "input_df = [{'name':'Sujeet', 'age':10},\n",
    "            {'name':'Sameer', 'age':11},\n",
    "            {'name':'Sumit', 'age':12}]\n",
    "  \n",
    "df = pd.DataFrame(input_df)\n",
    "print('Original DataFrame: \\n', df)\n",
    "  \n",
    "  \n",
    "print('\\nRows iterated using iterrows() : ')\n",
    "for index, row in df.iterrows():\n",
    "    print(row['name'], row['age'])"
   ]
  },
  {
   "cell_type": "markdown",
   "id": "swedish-intensity",
   "metadata": {},
   "source": [
    "# Explanation"
   ]
  },
  {
   "cell_type": "code",
   "execution_count": null,
   "id": "brave-tomato",
   "metadata": {},
   "outputs": [],
   "source": [
    "1 = import  in pandas \n",
    "2 = create the data in rows , but the data is in series \n",
    "3 = df is define the function and print it \n",
    "4 = in 1st  coloum is index and 2 nd is name 3rd is age , define it , for using  for loop \n",
    "5 = print the statement "
   ]
  },
  {
   "cell_type": "markdown",
   "id": "taken-breath",
   "metadata": {},
   "source": [
    "# 2."
   ]
  },
  {
   "cell_type": "code",
   "execution_count": 4,
   "id": "japanese-charge",
   "metadata": {},
   "outputs": [
    {
     "name": "stdout",
     "output_type": "stream",
     "text": [
      "Original DataFrame: \n",
      "       name  age\n",
      "0    nupur   20\n",
      "1    sonal   30\n",
      "2  vartika   50\n",
      "\n",
      "Rows iterated using itertuples():\n",
      "nupur 20\n",
      "sonal 30\n",
      "vartika 50\n"
     ]
    }
   ],
   "source": [
    "import pandas as pd\n",
    "\n",
    "input_df = [ {'name':'nupur','age':20},\n",
    "           {'name':'sonal','age':30},\n",
    "           {'name':'vartika','age':50}]\n",
    "\n",
    "df = pd.DataFrame(input_df)\n",
    "print('Original DataFrame: \\n' ,df)\n",
    "\n",
    "print('\\nRows iterated using itertuples():')\n",
    "for row in df.itertuples():\n",
    "    print(getattr(row , 'name'), getattr(row,'age'))\n",
    "\n"
   ]
  },
  {
   "cell_type": "markdown",
   "id": "roman-metro",
   "metadata": {},
   "source": [
    "# Explanation"
   ]
  },
  {
   "cell_type": "code",
   "execution_count": null,
   "id": "former-median",
   "metadata": {},
   "outputs": [],
   "source": [
    "1 = imoprt in pandas\n",
    "2 = create the dataframe by using dictionary\n",
    "3 = print the original dataframe \n",
    "4 = itertuples()method will return an iterator yeildinga named tuple for each row in the dataframe ,\n",
    "the first element of the tuple will the rows corresponding values are the row values \n",
    "5 = using the for loop print the name ,rows "
   ]
  },
  {
   "cell_type": "markdown",
   "id": "fitting-crack",
   "metadata": {},
   "source": [
    "# 3."
   ]
  },
  {
   "cell_type": "code",
   "execution_count": 2,
   "id": "optional-second",
   "metadata": {},
   "outputs": [
    {
     "name": "stdout",
     "output_type": "stream",
     "text": [
      "Original DataFrame: \n",
      "      name  age\n",
      "0  Sujeet   10\n",
      "1  Sameer  110\n",
      "2   Sumit  120\n",
      "\n",
      "Rows iterated using itertuples() : \n",
      "Sujeet 10\n",
      "Sameer 110\n",
      "Sumit 120\n"
     ]
    }
   ],
   "source": [
    "import pandas as pd\n",
    "  \n",
    "input_df = [{'name':'Sujeet', 'age':10},\n",
    "            {'name':'Sameer', 'age':110},\n",
    "            {'name':'Sumit', 'age':120}]\n",
    "  \n",
    "df = pd.DataFrame(input_df)\n",
    "print('Original DataFrame: \\n', df)\n",
    "  \n",
    "print('\\nRows iterated using itertuples() : ')\n",
    "for row in df.itertuples():\n",
    "    print(getattr(row, 'name'), getattr(row, 'age'))"
   ]
  },
  {
   "cell_type": "markdown",
   "id": "fabulous-azerbaijan",
   "metadata": {},
   "source": [
    "# Explanation"
   ]
  },
  {
   "cell_type": "code",
   "execution_count": null,
   "id": "little-heritage",
   "metadata": {},
   "outputs": [],
   "source": [
    "in second method \n",
    "1 = import in pandas \n",
    "2 = create the data in dataframe \n",
    "3 = to create the data by using dictionary\n",
    "4 = consists of 3 principal of . data , rows , columns \n",
    "5  print the original data\n",
    "6 = use, for loop and print the statement"
   ]
  },
  {
   "cell_type": "markdown",
   "id": "taken-placement",
   "metadata": {},
   "source": [
    "#  2.Selecting rows in pandas DataFrame based on conditions"
   ]
  },
  {
   "cell_type": "code",
   "execution_count": 3,
   "id": "prime-thinking",
   "metadata": {},
   "outputs": [
    {
     "name": "stdout",
     "output_type": "stream",
     "text": [
      "Given Dataframe :\n",
      "         Name  Age    Stream  Percentage\n",
      "0      Ankit   21      Math          88\n",
      "1       Amit   19  Commerce          92\n",
      "2  Aishwarya   20   Science          95\n",
      "3   Priyanka   18      Math          70\n",
      "4      Priya   17      Math          65\n",
      "5    Shaurya   21   Science          78\n",
      "\n",
      "Result dataframe :\n",
      "         Name  Age    Stream  Percentage\n",
      "0      Ankit   21      Math          88\n",
      "1       Amit   19  Commerce          92\n",
      "2  Aishwarya   20   Science          95\n"
     ]
    }
   ],
   "source": [
    "import pandas as pd\n",
    "  \n",
    "record = {\n",
    "  \n",
    " 'Name': ['Ankit', 'Amit', 'Aishwarya', 'Priyanka', 'Priya', 'Shaurya' ],\n",
    " 'Age': [21, 19, 20, 18, 17, 21],\n",
    " 'Stream': ['Math', 'Commerce', 'Science', 'Math', 'Math', 'Science'],\n",
    " 'Percentage': [88, 92, 95, 70, 65, 78] }\n",
    "  \n",
    "\n",
    "dataframe = pd.DataFrame(record, columns = ['Name', 'Age', 'Stream', 'Percentage'])\n",
    "  \n",
    "print(\"Given Dataframe :\\n\", dataframe) \n",
    "  \n",
    "rslt_df = dataframe[dataframe['Percentage'] > 80]\n",
    "  \n",
    "print('\\nResult dataframe :\\n', rslt_df)"
   ]
  },
  {
   "cell_type": "markdown",
   "id": "figured-playing",
   "metadata": {},
   "source": [
    "# Explanation"
   ]
  },
  {
   "cell_type": "code",
   "execution_count": null,
   "id": "technical-sally",
   "metadata": {},
   "outputs": [],
   "source": [
    "1 = import in pandas \n",
    "2 = to create he data in dataframe , use in dictionary\n",
    "3 = print the given data \n",
    "4 = it consists of , row , column , index\n",
    "5 = how many students is above 80\n",
    "6 = print new daraframe"
   ]
  },
  {
   "cell_type": "markdown",
   "id": "mechanical-biography",
   "metadata": {},
   "source": [
    "# 2."
   ]
  },
  {
   "cell_type": "code",
   "execution_count": 4,
   "id": "coral-memorabilia",
   "metadata": {},
   "outputs": [
    {
     "name": "stdout",
     "output_type": "stream",
     "text": [
      "Given Dataframe :\n",
      "         Name  Age    Stream  Percentage\n",
      "0      Ankit   21      Math          88\n",
      "1       Amit   19  Commerce          92\n",
      "2  Aishwarya   20   Science          95\n",
      "3   Priyanka   18      Math          70\n",
      "4      Priya   17      Math          65\n",
      "5    Shaurya   21   Science          78\n",
      "\n",
      "Result dataframe :\n",
      "         Name  Age    Stream  Percentage\n",
      "0      Ankit   21      Math          88\n",
      "1       Amit   19  Commerce          92\n",
      "2  Aishwarya   20   Science          95\n"
     ]
    }
   ],
   "source": [
    "import pandas as pd\n",
    "  \n",
    "record = {\n",
    "  'Name': ['Ankit', 'Amit', 'Aishwarya', 'Priyanka', 'Priya', 'Shaurya' ],\n",
    "  'Age': [21, 19, 20, 18, 17, 21],\n",
    "  'Stream': ['Math', 'Commerce', 'Science', 'Math', 'Math', 'Science'],\n",
    "  'Percentage': [88, 92, 95, 70, 65, 78]}\n",
    "  \n",
    "dataframe = pd.DataFrame(record, columns = ['Name', 'Age', 'Stream', 'Percentage'])\n",
    "  \n",
    "print(\"Given Dataframe :\\n\", dataframe) \n",
    "  \n",
    "rslt_df = dataframe.loc[dataframe['Percentage'] > 80]\n",
    "  \n",
    "print('\\nResult dataframe :\\n', rslt_df)"
   ]
  },
  {
   "cell_type": "markdown",
   "id": "atmospheric-potter",
   "metadata": {},
   "source": [
    "# Explanation"
   ]
  },
  {
   "cell_type": "code",
   "execution_count": null,
   "id": "stylish-penalty",
   "metadata": {},
   "outputs": [],
   "source": [
    "1 =  import in pandas \n",
    "2 =  create the dataframe , by using dictionary\n",
    "3 =  Selecting all the rows from the given dataframe in which ‘Percentage’ is greater than 80 using loc[].\n",
    "4 =  print it "
   ]
  },
  {
   "cell_type": "markdown",
   "id": "urban-bailey",
   "metadata": {},
   "source": [
    "# 3. Select any row from a Dataframe using iloc[] and iat[] in Pandas"
   ]
  },
  {
   "cell_type": "code",
   "execution_count": 5,
   "id": "compressed-bradford",
   "metadata": {},
   "outputs": [
    {
     "name": "stdout",
     "output_type": "stream",
     "text": [
      "[['10/2/2011', 'Music', 10000], ['11/2/2011', 'Poetry', 5000], ['12/2/2011', 'Theatre', 15000]]\n"
     ]
    }
   ],
   "source": [
    "import pandas as pd \n",
    "    \n",
    "\n",
    "df = pd.DataFrame({'Date':['10/2/2011', '11/2/2011', '12/2/2011', '13/2/11'], \n",
    "                    'Event':['Music', 'Poetry', 'Theatre', 'Comedy'], \n",
    "                    'Cost':[10000, 5000, 15000, 2000]}) \n",
    "  \n",
    "Row_list =[] \n",
    "    \n",
    "\n",
    "for i in range((df.shape[0])): \n",
    "    \n",
    "    # Using iloc to access the values of  \n",
    "    # the current row denoted by \"i\" \n",
    "    Row_list.append(list(df.iloc[i, :])) \n",
    "    \n",
    "# Print the first 3 elements \n",
    "print(Row_list[:3]) "
   ]
  },
  {
   "cell_type": "markdown",
   "id": "possible-belarus",
   "metadata": {},
   "source": [
    "# Explanation "
   ]
  },
  {
   "cell_type": "code",
   "execution_count": null,
   "id": "premier-shape",
   "metadata": {},
   "outputs": [],
   "source": [
    "1 = imoprt in pandas \n",
    "2 = df is define the function and create the dataframe \n",
    "3 = list[]\n",
    "4 = using for loop , syntax : dataframe .shape (shape=count the columns and rows)\n",
    "5 = the df.loc[i], where th row with index i will be what you specify it to be in the data frame \n",
    "6 =.loc = ad list as a row to pandasdatarame using loc[]\n",
    "7 print the first 3 elements  "
   ]
  },
  {
   "cell_type": "markdown",
   "id": "higher-marker",
   "metadata": {},
   "source": [
    "# Drop rows from the dataframe based on certain condition applied on a column"
   ]
  },
  {
   "cell_type": "code",
   "execution_count": 1,
   "id": "cellular-dayton",
   "metadata": {},
   "outputs": [
    {
     "name": "stdout",
     "output_type": "stream",
     "text": [
      "               Name            Team  Number Position  Age  Height  Weight  \\\n",
      "0     Avery Bradley  Boston Celtics       0       PG   25  06-Feb     180   \n",
      "1       Jae Crowder  Boston Celtics      99       SF   25  06-Jun     235   \n",
      "2      John Holland  Boston Celtics      30       SG   27  06-May     205   \n",
      "3       R.J. Hunter  Boston Celtics      28       SG   22  06-May     185   \n",
      "4     Jonas Jerebko  Boston Celtics       8       PF   29  06-Oct     231   \n",
      "5      Amir Johnson  Boston Celtics      90       PF   29  06-Sep     240   \n",
      "6     Jordan Mickey  Boston Celtics      55       PF   21  06-Aug     235   \n",
      "7      Kelly Olynyk  Boston Celtics      41        C   25     7-0     238   \n",
      "8      Terry Rozier  Boston Celtics      12       PG   22  06-Feb     190   \n",
      "9      Marcus Smart  Boston Celtics      36       PG   22  06-Apr     220   \n",
      "10  Jared Sullinger  Boston Celtics       7        C   24  06-Sep     260   \n",
      "11    Isaiah Thomas  Boston Celtics       4       PG   27  05-Sep     185   \n",
      "12      Evan Turner  Boston Celtics      11       SG   27  06-Jul     220   \n",
      "13      James Young  Boston Celtics      13       SG   20  06-Jun     215   \n",
      "14     Tyler Zeller  Boston Celtics      44        C   26     7-0     253   \n",
      "\n",
      "              College      Salary  \n",
      "0               Texas   7730337.0  \n",
      "1           Marquette   6796117.0  \n",
      "2   Boston University         NaN  \n",
      "3       Georgia State   1148640.0  \n",
      "4                 NaN   5000000.0  \n",
      "5                 NaN  12000000.0  \n",
      "6                 LSU   1170960.0  \n",
      "7             Gonzaga   2165160.0  \n",
      "8          Louisville   1824360.0  \n",
      "9      Oklahoma State   3431040.0  \n",
      "10         Ohio State   2569260.0  \n",
      "11         Washington   6912869.0  \n",
      "12         Ohio State   3425510.0  \n",
      "13           Kentucky   1749840.0  \n",
      "14     North Carolina   2616975.0  \n",
      "(457, 9)\n"
     ]
    }
   ],
   "source": [
    "# importing pandas as pd\n",
    "import pandas as pd\n",
    "  \n",
    "# Read the csv file and construct the \n",
    "# dataframe\n",
    "df = pd.read_csv('nba.csv')\n",
    "  \n",
    "# Visualize the dataframe\n",
    "print(df.head(15))\n",
    "  \n",
    "# Print the shape of the dataframe\n",
    "print(df.shape)"
   ]
  },
  {
   "cell_type": "code",
   "execution_count": null,
   "id": "indoor-stage",
   "metadata": {},
   "outputs": [],
   "source": [
    "1 = import in pandas\n",
    "2 = read the csv file\n",
    "3 = head() = is used to get first n rows\n",
    "4 = df.shape =get the number of rows and columns\n",
    "( return a yuple representing the dimensionality of the dataframe )"
   ]
  },
  {
   "cell_type": "code",
   "execution_count": 2,
   "id": "champion-reach",
   "metadata": {},
   "outputs": [
    {
     "name": "stdout",
     "output_type": "stream",
     "text": [
      "               Name            Team  Number Position  Age  Height  Weight  \\\n",
      "0     Avery Bradley  Boston Celtics       0       PG   25  06-Feb     180   \n",
      "1       Jae Crowder  Boston Celtics      99       SF   25  06-Jun     235   \n",
      "2      John Holland  Boston Celtics      30       SG   27  06-May     205   \n",
      "3       R.J. Hunter  Boston Celtics      28       SG   22  06-May     185   \n",
      "4     Jonas Jerebko  Boston Celtics       8       PF   29  06-Oct     231   \n",
      "5      Amir Johnson  Boston Celtics      90       PF   29  06-Sep     240   \n",
      "6     Jordan Mickey  Boston Celtics      55       PF   21  06-Aug     235   \n",
      "7      Kelly Olynyk  Boston Celtics      41        C   25     7-0     238   \n",
      "8      Terry Rozier  Boston Celtics      12       PG   22  06-Feb     190   \n",
      "9      Marcus Smart  Boston Celtics      36       PG   22  06-Apr     220   \n",
      "10  Jared Sullinger  Boston Celtics       7        C   24  06-Sep     260   \n",
      "11    Isaiah Thomas  Boston Celtics       4       PG   27  05-Sep     185   \n",
      "12      Evan Turner  Boston Celtics      11       SG   27  06-Jul     220   \n",
      "13      James Young  Boston Celtics      13       SG   20  06-Jun     215   \n",
      "14     Tyler Zeller  Boston Celtics      44        C   26     7-0     253   \n",
      "\n",
      "              College      Salary  \n",
      "0               Texas   7730337.0  \n",
      "1           Marquette   6796117.0  \n",
      "2   Boston University         NaN  \n",
      "3       Georgia State   1148640.0  \n",
      "4                 NaN   5000000.0  \n",
      "5                 NaN  12000000.0  \n",
      "6                 LSU   1170960.0  \n",
      "7             Gonzaga   2165160.0  \n",
      "8          Louisville   1824360.0  \n",
      "9      Oklahoma State   3431040.0  \n",
      "10         Ohio State   2569260.0  \n",
      "11         Washington   6912869.0  \n",
      "12         Ohio State   3425510.0  \n",
      "13           Kentucky   1749840.0  \n",
      "14     North Carolina   2616975.0  \n",
      "(457, 9)\n"
     ]
    }
   ],
   "source": [
    "# importing pandas as pd\n",
    "import pandas as pd\n",
    "  \n",
    "# Read the csv file and construct the \n",
    "# dataframe\n",
    "df = pd.read_csv('nba.csv')\n",
    "  \n",
    "# Visualize the dataframe\n",
    "print(df.head(15))\n",
    "  \n",
    "# Print the shape of the dataframe\n",
    "print(df.shape)"
   ]
  },
  {
   "cell_type": "markdown",
   "id": "running-enhancement",
   "metadata": {},
   "source": [
    "# Getting frequency counts of a columns in Pandas DataFrame"
   ]
  },
  {
   "cell_type": "code",
   "execution_count": 4,
   "id": "angry-terrorist",
   "metadata": {},
   "outputs": [
    {
     "name": "stdout",
     "output_type": "stream",
     "text": [
      "bar    4\n",
      "g2g    3\n",
      "foo    2\n",
      "Name: A, dtype: int64\n"
     ]
    }
   ],
   "source": [
    "# importing pandas as pd\n",
    "import pandas as pd\n",
    "  \n",
    "# sample dataframe\n",
    "df = pd.DataFrame({'A': ['foo', 'bar', 'g2g', 'g2g', 'g2g',\n",
    "                         'bar', 'bar', 'foo', 'bar'],\n",
    "                  'B': ['a', 'b', 'a', 'b', 'b', 'b', 'a', 'a', 'b'] })\n",
    "  \n",
    "# frequency count of column A\n",
    "count = df['A'].value_counts()\n",
    "print(count)"
   ]
  },
  {
   "cell_type": "markdown",
   "id": "younger-christian",
   "metadata": {},
   "source": [
    "# Explanation "
   ]
  },
  {
   "cell_type": "code",
   "execution_count": null,
   "id": "prescribed-average",
   "metadata": {},
   "outputs": [],
   "source": [
    "1 = import in pandas \n",
    "2 = create the data , in dataframe , using dictionary\n",
    "3 = count is used to count the number \n",
    "4 = value_count is used to get a series containig counts of unique values \n",
    "5 = print it "
   ]
  },
  {
   "cell_type": "markdown",
   "id": "regular-jordan",
   "metadata": {},
   "source": [
    "# 2."
   ]
  },
  {
   "cell_type": "code",
   "execution_count": 5,
   "id": "passive-profession",
   "metadata": {},
   "outputs": [
    {
     "name": "stdout",
     "output_type": "stream",
     "text": [
      "     B\n",
      "A     \n",
      "bar  4\n",
      "foo  2\n",
      "g2g  3\n"
     ]
    }
   ],
   "source": [
    "# importing pandas as pd\n",
    "import pandas as pd\n",
    "  \n",
    "# sample dataframe\n",
    "df = pd.DataFrame({ 'A': ['foo', 'bar', 'g2g', 'g2g', 'g2g',\n",
    "                                'bar', 'bar', 'foo', 'bar'],\n",
    "                   'B': ['a', 'b', 'a', 'b', 'b', 'b', 'a', 'a', 'b'] })\n",
    "  \n",
    "# Multi-column frequency count\n",
    "count = df.groupby(['A']).count()\n",
    "print(count)"
   ]
  },
  {
   "cell_type": "markdown",
   "id": "powerful-petroleum",
   "metadata": {},
   "source": [
    "# Explantion"
   ]
  },
  {
   "cell_type": "code",
   "execution_count": null,
   "id": "corresponding-difference",
   "metadata": {},
   "outputs": [],
   "source": [
    "1 = multi- column = this method can be used to count frequencies of objecs over\n",
    "single or multiple column \n",
    "2 = df.groupby = the function is used to split the data into groups based on some criteria "
   ]
  },
  {
   "cell_type": "code",
   "execution_count": 6,
   "id": "happy-appointment",
   "metadata": {},
   "outputs": [
    {
     "name": "stdout",
     "output_type": "stream",
     "text": [
      "A    B\n",
      "bar  a    1\n",
      "     b    3\n",
      "foo  a    2\n",
      "g2g  a    1\n",
      "     b    2\n",
      "dtype: int64\n"
     ]
    }
   ],
   "source": [
    "# importing pandas as pd\n",
    "import pandas as pd\n",
    "  \n",
    "# sample dataframe\n",
    "df = pd.DataFrame({ 'A': ['foo', 'bar', 'g2g', 'g2g', 'g2g', \n",
    "                                'bar', 'bar', 'foo', 'bar'],\n",
    "                   'B': ['a', 'b', 'a', 'b', 'b', 'b', 'a', 'a', 'b'] })\n",
    "  \n",
    "# Multi-column frequency count\n",
    "count = df.groupby(['A', 'B']).size()\n",
    "print(count)"
   ]
  },
  {
   "cell_type": "markdown",
   "id": "designed-basketball",
   "metadata": {},
   "source": [
    "# Get the index of maximum value in DataFrame column"
   ]
  },
  {
   "cell_type": "code",
   "execution_count": 7,
   "id": "dimensional-hartford",
   "metadata": {},
   "outputs": [
    {
     "data": {
      "text/html": [
       "<div>\n",
       "<style scoped>\n",
       "    .dataframe tbody tr th:only-of-type {\n",
       "        vertical-align: middle;\n",
       "    }\n",
       "\n",
       "    .dataframe tbody tr th {\n",
       "        vertical-align: top;\n",
       "    }\n",
       "\n",
       "    .dataframe thead th {\n",
       "        text-align: right;\n",
       "    }\n",
       "</style>\n",
       "<table border=\"1\" class=\"dataframe\">\n",
       "  <thead>\n",
       "    <tr style=\"text-align: right;\">\n",
       "      <th></th>\n",
       "      <th>Name</th>\n",
       "      <th>Team</th>\n",
       "      <th>Number</th>\n",
       "      <th>Position</th>\n",
       "      <th>Age</th>\n",
       "      <th>Height</th>\n",
       "      <th>Weight</th>\n",
       "      <th>College</th>\n",
       "      <th>Salary</th>\n",
       "    </tr>\n",
       "  </thead>\n",
       "  <tbody>\n",
       "    <tr>\n",
       "      <th>0</th>\n",
       "      <td>Avery Bradley</td>\n",
       "      <td>Boston Celtics</td>\n",
       "      <td>0.0</td>\n",
       "      <td>PG</td>\n",
       "      <td>25.0</td>\n",
       "      <td>6-2</td>\n",
       "      <td>180.0</td>\n",
       "      <td>Texas</td>\n",
       "      <td>7730337.0</td>\n",
       "    </tr>\n",
       "    <tr>\n",
       "      <th>1</th>\n",
       "      <td>Jae Crowder</td>\n",
       "      <td>Boston Celtics</td>\n",
       "      <td>99.0</td>\n",
       "      <td>SF</td>\n",
       "      <td>25.0</td>\n",
       "      <td>6-6</td>\n",
       "      <td>235.0</td>\n",
       "      <td>Marquette</td>\n",
       "      <td>6796117.0</td>\n",
       "    </tr>\n",
       "    <tr>\n",
       "      <th>2</th>\n",
       "      <td>John Holland</td>\n",
       "      <td>Boston Celtics</td>\n",
       "      <td>30.0</td>\n",
       "      <td>SG</td>\n",
       "      <td>27.0</td>\n",
       "      <td>6-5</td>\n",
       "      <td>205.0</td>\n",
       "      <td>Boston University</td>\n",
       "      <td>NaN</td>\n",
       "    </tr>\n",
       "    <tr>\n",
       "      <th>3</th>\n",
       "      <td>R.J. Hunter</td>\n",
       "      <td>Boston Celtics</td>\n",
       "      <td>28.0</td>\n",
       "      <td>SG</td>\n",
       "      <td>22.0</td>\n",
       "      <td>6-5</td>\n",
       "      <td>185.0</td>\n",
       "      <td>Georgia State</td>\n",
       "      <td>1148640.0</td>\n",
       "    </tr>\n",
       "    <tr>\n",
       "      <th>4</th>\n",
       "      <td>Jonas Jerebko</td>\n",
       "      <td>Boston Celtics</td>\n",
       "      <td>8.0</td>\n",
       "      <td>PF</td>\n",
       "      <td>29.0</td>\n",
       "      <td>6-10</td>\n",
       "      <td>231.0</td>\n",
       "      <td>NaN</td>\n",
       "      <td>5000000.0</td>\n",
       "    </tr>\n",
       "    <tr>\n",
       "      <th>5</th>\n",
       "      <td>Amir Johnson</td>\n",
       "      <td>Boston Celtics</td>\n",
       "      <td>90.0</td>\n",
       "      <td>PF</td>\n",
       "      <td>29.0</td>\n",
       "      <td>6-9</td>\n",
       "      <td>240.0</td>\n",
       "      <td>NaN</td>\n",
       "      <td>12000000.0</td>\n",
       "    </tr>\n",
       "    <tr>\n",
       "      <th>6</th>\n",
       "      <td>Jordan Mickey</td>\n",
       "      <td>Boston Celtics</td>\n",
       "      <td>55.0</td>\n",
       "      <td>PF</td>\n",
       "      <td>21.0</td>\n",
       "      <td>6-8</td>\n",
       "      <td>235.0</td>\n",
       "      <td>LSU</td>\n",
       "      <td>1170960.0</td>\n",
       "    </tr>\n",
       "    <tr>\n",
       "      <th>7</th>\n",
       "      <td>Kelly Olynyk</td>\n",
       "      <td>Boston Celtics</td>\n",
       "      <td>41.0</td>\n",
       "      <td>C</td>\n",
       "      <td>25.0</td>\n",
       "      <td>7-0</td>\n",
       "      <td>238.0</td>\n",
       "      <td>Gonzaga</td>\n",
       "      <td>2165160.0</td>\n",
       "    </tr>\n",
       "    <tr>\n",
       "      <th>8</th>\n",
       "      <td>Terry Rozier</td>\n",
       "      <td>Boston Celtics</td>\n",
       "      <td>12.0</td>\n",
       "      <td>PG</td>\n",
       "      <td>22.0</td>\n",
       "      <td>6-2</td>\n",
       "      <td>190.0</td>\n",
       "      <td>Louisville</td>\n",
       "      <td>1824360.0</td>\n",
       "    </tr>\n",
       "    <tr>\n",
       "      <th>9</th>\n",
       "      <td>Marcus Smart</td>\n",
       "      <td>Boston Celtics</td>\n",
       "      <td>36.0</td>\n",
       "      <td>PG</td>\n",
       "      <td>22.0</td>\n",
       "      <td>6-4</td>\n",
       "      <td>220.0</td>\n",
       "      <td>Oklahoma State</td>\n",
       "      <td>3431040.0</td>\n",
       "    </tr>\n",
       "  </tbody>\n",
       "</table>\n",
       "</div>"
      ],
      "text/plain": [
       "            Name            Team  Number Position   Age Height  Weight  \\\n",
       "0  Avery Bradley  Boston Celtics     0.0       PG  25.0    6-2   180.0   \n",
       "1    Jae Crowder  Boston Celtics    99.0       SF  25.0    6-6   235.0   \n",
       "2   John Holland  Boston Celtics    30.0       SG  27.0    6-5   205.0   \n",
       "3    R.J. Hunter  Boston Celtics    28.0       SG  22.0    6-5   185.0   \n",
       "4  Jonas Jerebko  Boston Celtics     8.0       PF  29.0   6-10   231.0   \n",
       "5   Amir Johnson  Boston Celtics    90.0       PF  29.0    6-9   240.0   \n",
       "6  Jordan Mickey  Boston Celtics    55.0       PF  21.0    6-8   235.0   \n",
       "7   Kelly Olynyk  Boston Celtics    41.0        C  25.0    7-0   238.0   \n",
       "8   Terry Rozier  Boston Celtics    12.0       PG  22.0    6-2   190.0   \n",
       "9   Marcus Smart  Boston Celtics    36.0       PG  22.0    6-4   220.0   \n",
       "\n",
       "             College      Salary  \n",
       "0              Texas   7730337.0  \n",
       "1          Marquette   6796117.0  \n",
       "2  Boston University         NaN  \n",
       "3      Georgia State   1148640.0  \n",
       "4                NaN   5000000.0  \n",
       "5                NaN  12000000.0  \n",
       "6                LSU   1170960.0  \n",
       "7            Gonzaga   2165160.0  \n",
       "8         Louisville   1824360.0  \n",
       "9     Oklahoma State   3431040.0  "
      ]
     },
     "execution_count": 7,
     "metadata": {},
     "output_type": "execute_result"
    }
   ],
   "source": [
    "# importing pandas module \n",
    "import pandas as pd \n",
    "    \n",
    "# making data frame \n",
    "df = pd.read_csv(\"https://media.geeksforgeeks.org/wp-content/uploads/nba.csv\") \n",
    "  \n",
    "df.head(10)"
   ]
  },
  {
   "cell_type": "markdown",
   "id": "frozen-bikini",
   "metadata": {},
   "source": [
    "# Explanation"
   ]
  },
  {
   "cell_type": "code",
   "execution_count": null,
   "id": "significant-economy",
   "metadata": {},
   "outputs": [],
   "source": [
    "1 = head is the function is used to  the first n rows. "
   ]
  },
  {
   "cell_type": "markdown",
   "id": "black-sherman",
   "metadata": {},
   "source": [
    "# .."
   ]
  },
  {
   "cell_type": "code",
   "execution_count": 3,
   "id": "strange-antarctica",
   "metadata": {},
   "outputs": [
    {
     "data": {
      "text/plain": [
       "Weight    405\n",
       "dtype: int64"
      ]
     },
     "execution_count": 3,
     "metadata": {},
     "output_type": "execute_result"
    }
   ],
   "source": [
    "# importing pandas module \n",
    "import pandas as pd \n",
    "    \n",
    "# making data frame \n",
    "df = pd.read_csv(\"nba.csv\")\n",
    "  \n",
    "# Returns index of maximum weight\n",
    "df[['Weight']].idxmax()"
   ]
  },
  {
   "cell_type": "code",
   "execution_count": null,
   "id": "complete-spencer",
   "metadata": {},
   "outputs": [],
   "source": [
    "idxmax  = the function is used find the index of maximum value along the index axis"
   ]
  },
  {
   "cell_type": "markdown",
   "id": "persistent-religion",
   "metadata": {},
   "source": [
    "# How to drop one or multiple columns in Pandas Dataframe\n"
   ]
  },
  {
   "cell_type": "code",
   "execution_count": 4,
   "id": "greater-formula",
   "metadata": {},
   "outputs": [
    {
     "data": {
      "text/html": [
       "<div>\n",
       "<style scoped>\n",
       "    .dataframe tbody tr th:only-of-type {\n",
       "        vertical-align: middle;\n",
       "    }\n",
       "\n",
       "    .dataframe tbody tr th {\n",
       "        vertical-align: top;\n",
       "    }\n",
       "\n",
       "    .dataframe thead th {\n",
       "        text-align: right;\n",
       "    }\n",
       "</style>\n",
       "<table border=\"1\" class=\"dataframe\">\n",
       "  <thead>\n",
       "    <tr style=\"text-align: right;\">\n",
       "      <th></th>\n",
       "      <th>A</th>\n",
       "      <th>B</th>\n",
       "      <th>C</th>\n",
       "      <th>D</th>\n",
       "      <th>E</th>\n",
       "    </tr>\n",
       "  </thead>\n",
       "  <tbody>\n",
       "    <tr>\n",
       "      <th>0</th>\n",
       "      <td>A1</td>\n",
       "      <td>B1</td>\n",
       "      <td>C1</td>\n",
       "      <td>D1</td>\n",
       "      <td>E1</td>\n",
       "    </tr>\n",
       "    <tr>\n",
       "      <th>1</th>\n",
       "      <td>A2</td>\n",
       "      <td>B2</td>\n",
       "      <td>C2</td>\n",
       "      <td>D2</td>\n",
       "      <td>E2</td>\n",
       "    </tr>\n",
       "    <tr>\n",
       "      <th>2</th>\n",
       "      <td>A3</td>\n",
       "      <td>B3</td>\n",
       "      <td>C3</td>\n",
       "      <td>D3</td>\n",
       "      <td>E3</td>\n",
       "    </tr>\n",
       "    <tr>\n",
       "      <th>3</th>\n",
       "      <td>A4</td>\n",
       "      <td>B4</td>\n",
       "      <td>C4</td>\n",
       "      <td>D4</td>\n",
       "      <td>E4</td>\n",
       "    </tr>\n",
       "    <tr>\n",
       "      <th>4</th>\n",
       "      <td>A5</td>\n",
       "      <td>B5</td>\n",
       "      <td>C5</td>\n",
       "      <td>D5</td>\n",
       "      <td>E5</td>\n",
       "    </tr>\n",
       "  </tbody>\n",
       "</table>\n",
       "</div>"
      ],
      "text/plain": [
       "    A   B   C   D   E\n",
       "0  A1  B1  C1  D1  E1\n",
       "1  A2  B2  C2  D2  E2\n",
       "2  A3  B3  C3  D3  E3\n",
       "3  A4  B4  C4  D4  E4\n",
       "4  A5  B5  C5  D5  E5"
      ]
     },
     "execution_count": 4,
     "metadata": {},
     "output_type": "execute_result"
    }
   ],
   "source": [
    "# Import pandas package \n",
    "import pandas as pd\n",
    "  \n",
    "# create a dictionary with five fields each\n",
    "data = {\n",
    "    'A':['A1', 'A2', 'A3', 'A4', 'A5'], \n",
    "    'B':['B1', 'B2', 'B3', 'B4', 'B5'], \n",
    "    'C':['C1', 'C2', 'C3', 'C4', 'C5'], \n",
    "    'D':['D1', 'D2', 'D3', 'D4', 'D5'], \n",
    "    'E':['E1', 'E2', 'E3', 'E4', 'E5'] }\n",
    "  \n",
    "# Convert the dictionary into DataFrame \n",
    "df = pd.DataFrame(data)\n",
    "  \n",
    "df"
   ]
  },
  {
   "cell_type": "markdown",
   "id": "occasional-kernel",
   "metadata": {},
   "source": [
    "# Explanation"
   ]
  },
  {
   "cell_type": "code",
   "execution_count": null,
   "id": "rising-assumption",
   "metadata": {},
   "outputs": [],
   "source": [
    "1 = import \n",
    "2 = create a dictionary \n",
    "3 = convert the dictionaryinto data frame \n",
    "4 = index is 0,1,2,3,4\n",
    "5 = colums= A,B,C,D,E\n",
    "6 = print it "
   ]
  },
  {
   "cell_type": "markdown",
   "id": "tribal-thinking",
   "metadata": {},
   "source": [
    "# 2."
   ]
  },
  {
   "cell_type": "code",
   "execution_count": 5,
   "id": "fatty-involvement",
   "metadata": {},
   "outputs": [
    {
     "data": {
      "text/html": [
       "<div>\n",
       "<style scoped>\n",
       "    .dataframe tbody tr th:only-of-type {\n",
       "        vertical-align: middle;\n",
       "    }\n",
       "\n",
       "    .dataframe tbody tr th {\n",
       "        vertical-align: top;\n",
       "    }\n",
       "\n",
       "    .dataframe thead th {\n",
       "        text-align: right;\n",
       "    }\n",
       "</style>\n",
       "<table border=\"1\" class=\"dataframe\">\n",
       "  <thead>\n",
       "    <tr style=\"text-align: right;\">\n",
       "      <th></th>\n",
       "      <th>B</th>\n",
       "      <th>C</th>\n",
       "      <th>D</th>\n",
       "      <th>E</th>\n",
       "    </tr>\n",
       "  </thead>\n",
       "  <tbody>\n",
       "    <tr>\n",
       "      <th>0</th>\n",
       "      <td>B1</td>\n",
       "      <td>C1</td>\n",
       "      <td>D1</td>\n",
       "      <td>E1</td>\n",
       "    </tr>\n",
       "    <tr>\n",
       "      <th>1</th>\n",
       "      <td>B2</td>\n",
       "      <td>C2</td>\n",
       "      <td>D2</td>\n",
       "      <td>E2</td>\n",
       "    </tr>\n",
       "    <tr>\n",
       "      <th>2</th>\n",
       "      <td>B3</td>\n",
       "      <td>C3</td>\n",
       "      <td>D3</td>\n",
       "      <td>E3</td>\n",
       "    </tr>\n",
       "    <tr>\n",
       "      <th>3</th>\n",
       "      <td>B4</td>\n",
       "      <td>C4</td>\n",
       "      <td>D4</td>\n",
       "      <td>E4</td>\n",
       "    </tr>\n",
       "    <tr>\n",
       "      <th>4</th>\n",
       "      <td>B5</td>\n",
       "      <td>C5</td>\n",
       "      <td>D5</td>\n",
       "      <td>E5</td>\n",
       "    </tr>\n",
       "  </tbody>\n",
       "</table>\n",
       "</div>"
      ],
      "text/plain": [
       "    B   C   D   E\n",
       "0  B1  C1  D1  E1\n",
       "1  B2  C2  D2  E2\n",
       "2  B3  C3  D3  E3\n",
       "3  B4  C4  D4  E4\n",
       "4  B5  C5  D5  E5"
      ]
     },
     "execution_count": 5,
     "metadata": {},
     "output_type": "execute_result"
    }
   ],
   "source": [
    "# Import pandas package \n",
    "import pandas as pd\n",
    "  \n",
    "# create a dictionary with five fields each \n",
    "data = {\n",
    "    'A':['A1', 'A2', 'A3', 'A4', 'A5'], \n",
    "    'B':['B1', 'B2', 'B3', 'B4', 'B5'], \n",
    "    'C':['C1', 'C2', 'C3', 'C4', 'C5'], \n",
    "    'D':['D1', 'D2', 'D3', 'D4', 'D5'], \n",
    "    'E':['E1', 'E2', 'E3', 'E4', 'E5'] }\n",
    "  \n",
    "# Convert the dictionary into DataFrame \n",
    "df = pd.DataFrame(data)\n",
    "  \n",
    "# Remove column name 'A'\n",
    "df.drop(['A'], axis = 1)"
   ]
  },
  {
   "cell_type": "markdown",
   "id": "allied-failure",
   "metadata": {},
   "source": [
    "# Explanation "
   ]
  },
  {
   "cell_type": "markdown",
   "id": "dying-video",
   "metadata": {},
   "source": [
    "1 = imoprt in pandas \n",
    "2 = create a dictionary into dataframe \n",
    "3 = pandas dataframe is (rows , columns)\n",
    "4 = df.drop the function s used to drop specificed lables from rowsor columns , removed specific lables , colums , rows .\n",
    "5 = axis = delete columns , drop axis 1 "
   ]
  },
  {
   "cell_type": "markdown",
   "id": "indian-creator",
   "metadata": {},
   "source": [
    "# 2. "
   ]
  },
  {
   "cell_type": "code",
   "execution_count": 6,
   "id": "adjustable-petroleum",
   "metadata": {},
   "outputs": [
    {
     "data": {
      "text/html": [
       "<div>\n",
       "<style scoped>\n",
       "    .dataframe tbody tr th:only-of-type {\n",
       "        vertical-align: middle;\n",
       "    }\n",
       "\n",
       "    .dataframe tbody tr th {\n",
       "        vertical-align: top;\n",
       "    }\n",
       "\n",
       "    .dataframe thead th {\n",
       "        text-align: right;\n",
       "    }\n",
       "</style>\n",
       "<table border=\"1\" class=\"dataframe\">\n",
       "  <thead>\n",
       "    <tr style=\"text-align: right;\">\n",
       "      <th></th>\n",
       "      <th>B</th>\n",
       "      <th>D</th>\n",
       "    </tr>\n",
       "  </thead>\n",
       "  <tbody>\n",
       "    <tr>\n",
       "      <th>0</th>\n",
       "      <td>B1</td>\n",
       "      <td>D1</td>\n",
       "    </tr>\n",
       "    <tr>\n",
       "      <th>1</th>\n",
       "      <td>B2</td>\n",
       "      <td>D2</td>\n",
       "    </tr>\n",
       "    <tr>\n",
       "      <th>2</th>\n",
       "      <td>B3</td>\n",
       "      <td>D3</td>\n",
       "    </tr>\n",
       "    <tr>\n",
       "      <th>3</th>\n",
       "      <td>B4</td>\n",
       "      <td>D4</td>\n",
       "    </tr>\n",
       "    <tr>\n",
       "      <th>4</th>\n",
       "      <td>B5</td>\n",
       "      <td>D5</td>\n",
       "    </tr>\n",
       "  </tbody>\n",
       "</table>\n",
       "</div>"
      ],
      "text/plain": [
       "    B   D\n",
       "0  B1  D1\n",
       "1  B2  D2\n",
       "2  B3  D3\n",
       "3  B4  D4\n",
       "4  B5  D5"
      ]
     },
     "execution_count": 6,
     "metadata": {},
     "output_type": "execute_result"
    }
   ],
   "source": [
    "# Import pandas package \n",
    "import pandas as pd\n",
    "  \n",
    "# create a dictionary with five fields each\n",
    "data = {\n",
    "    'A':['A1', 'A2', 'A3', 'A4', 'A5'], \n",
    "    'B':['B1', 'B2', 'B3', 'B4', 'B5'], \n",
    "    'C':['C1', 'C2', 'C3', 'C4', 'C5'], \n",
    "    'D':['D1', 'D2', 'D3', 'D4', 'D5'], \n",
    "    'E':['E1', 'E2', 'E3', 'E4', 'E5'] }\n",
    "  \n",
    "# Convert the dictionary into DataFrame \n",
    "df = pd.DataFrame(data)\n",
    "  \n",
    "# Remove three columns as index base\n",
    "df.drop(df.columns[[0, 4, 2]], axis = 1, inplace = True)\n",
    "  \n",
    "df"
   ]
  },
  {
   "cell_type": "markdown",
   "id": "remarkable-barrier",
   "metadata": {},
   "source": [
    "# Explanation "
   ]
  },
  {
   "cell_type": "markdown",
   "id": "respected-speech",
   "metadata": {},
   "source": [
    "1 = import in pandas\n",
    "2 = create a dictionary \n",
    "3 = convert into dataframe\n",
    "4 = remove the columns as index base\n",
    "5 = remove rows or columns by specifying lable names and corresponding axis or by speciying directly\n",
    "index or columns names. \n",
    "6 = when  implace = true , the data is modified in place , which means it will return nothing and the dataframe is now \n",
    "updated ."
   ]
  },
  {
   "cell_type": "markdown",
   "id": "ranking-antenna",
   "metadata": {},
   "source": [
    "# .."
   ]
  },
  {
   "cell_type": "code",
   "execution_count": null,
   "id": "viral-middle",
   "metadata": {},
   "outputs": [],
   "source": [
    "Method #4: Drop Columns from a Dataframe using loc[] and drop() method.\n",
    "\n",
    "Remove all columns between a specific column name to another columns name."
   ]
  },
  {
   "cell_type": "code",
   "execution_count": 7,
   "id": "intense-sierra",
   "metadata": {},
   "outputs": [
    {
     "data": {
      "text/html": [
       "<div>\n",
       "<style scoped>\n",
       "    .dataframe tbody tr th:only-of-type {\n",
       "        vertical-align: middle;\n",
       "    }\n",
       "\n",
       "    .dataframe tbody tr th {\n",
       "        vertical-align: top;\n",
       "    }\n",
       "\n",
       "    .dataframe thead th {\n",
       "        text-align: right;\n",
       "    }\n",
       "</style>\n",
       "<table border=\"1\" class=\"dataframe\">\n",
       "  <thead>\n",
       "    <tr style=\"text-align: right;\">\n",
       "      <th></th>\n",
       "      <th>A</th>\n",
       "      <th>E</th>\n",
       "    </tr>\n",
       "  </thead>\n",
       "  <tbody>\n",
       "    <tr>\n",
       "      <th>0</th>\n",
       "      <td>A1</td>\n",
       "      <td>E1</td>\n",
       "    </tr>\n",
       "    <tr>\n",
       "      <th>1</th>\n",
       "      <td>A2</td>\n",
       "      <td>E2</td>\n",
       "    </tr>\n",
       "    <tr>\n",
       "      <th>2</th>\n",
       "      <td>A3</td>\n",
       "      <td>E3</td>\n",
       "    </tr>\n",
       "    <tr>\n",
       "      <th>3</th>\n",
       "      <td>A4</td>\n",
       "      <td>E4</td>\n",
       "    </tr>\n",
       "    <tr>\n",
       "      <th>4</th>\n",
       "      <td>A5</td>\n",
       "      <td>E5</td>\n",
       "    </tr>\n",
       "  </tbody>\n",
       "</table>\n",
       "</div>"
      ],
      "text/plain": [
       "    A   E\n",
       "0  A1  E1\n",
       "1  A2  E2\n",
       "2  A3  E3\n",
       "3  A4  E4\n",
       "4  A5  E5"
      ]
     },
     "execution_count": 7,
     "metadata": {},
     "output_type": "execute_result"
    }
   ],
   "source": [
    "# Import pandas package \n",
    "import pandas as pd\n",
    "  \n",
    "# create a dictionary with five fields each \n",
    "data = {\n",
    "    'A':['A1', 'A2', 'A3', 'A4', 'A5'], \n",
    "    'B':['B1', 'B2', 'B3', 'B4', 'B5'], \n",
    "    'C':['C1', 'C2', 'C3', 'C4', 'C5'], \n",
    "    'D':['D1', 'D2', 'D3', 'D4', 'D5'], \n",
    "    'E':['E1', 'E2', 'E3', 'E4', 'E5'] }\n",
    "  \n",
    "# Convert the dictionary into DataFrame \n",
    "df = pd.DataFrame(data)\n",
    "  \n",
    "# Remove all columns between column name 'B' to 'D'\n",
    "df.drop(df.loc[:, 'B':'D'].columns, axis = 1)"
   ]
  },
  {
   "cell_type": "markdown",
   "id": "exposed-status",
   "metadata": {},
   "source": [
    "# Explanation "
   ]
  },
  {
   "cell_type": "code",
   "execution_count": null,
   "id": "healthy-marina",
   "metadata": {},
   "outputs": [],
   "source": [
    "1 = imoprt in pandas \n",
    "2 = create a dictionary \n",
    "3 = convert into dataframe \n",
    "4 = drop the columns between A, E"
   ]
  },
  {
   "cell_type": "markdown",
   "id": "stuck-harvard",
   "metadata": {},
   "source": [
    "# .."
   ]
  },
  {
   "cell_type": "code",
   "execution_count": 10,
   "id": "aging-sandwich",
   "metadata": {},
   "outputs": [
    {
     "data": {
      "text/html": [
       "<div>\n",
       "<style scoped>\n",
       "    .dataframe tbody tr th:only-of-type {\n",
       "        vertical-align: middle;\n",
       "    }\n",
       "\n",
       "    .dataframe tbody tr th {\n",
       "        vertical-align: top;\n",
       "    }\n",
       "\n",
       "    .dataframe thead th {\n",
       "        text-align: right;\n",
       "    }\n",
       "</style>\n",
       "<table border=\"1\" class=\"dataframe\">\n",
       "  <thead>\n",
       "    <tr style=\"text-align: right;\">\n",
       "      <th></th>\n",
       "      <th>B</th>\n",
       "      <th>C</th>\n",
       "      <th>D</th>\n",
       "      <th>E</th>\n",
       "    </tr>\n",
       "  </thead>\n",
       "  <tbody>\n",
       "    <tr>\n",
       "      <th>0</th>\n",
       "      <td>B1</td>\n",
       "      <td>C1</td>\n",
       "      <td>D1</td>\n",
       "      <td>E1</td>\n",
       "    </tr>\n",
       "    <tr>\n",
       "      <th>1</th>\n",
       "      <td>B2</td>\n",
       "      <td>C2</td>\n",
       "      <td>D2</td>\n",
       "      <td>E2</td>\n",
       "    </tr>\n",
       "    <tr>\n",
       "      <th>2</th>\n",
       "      <td>B3</td>\n",
       "      <td>C3</td>\n",
       "      <td>D3</td>\n",
       "      <td>E3</td>\n",
       "    </tr>\n",
       "    <tr>\n",
       "      <th>3</th>\n",
       "      <td>B4</td>\n",
       "      <td>C4</td>\n",
       "      <td>D4</td>\n",
       "      <td>E4</td>\n",
       "    </tr>\n",
       "    <tr>\n",
       "      <th>4</th>\n",
       "      <td>B5</td>\n",
       "      <td>C5</td>\n",
       "      <td>D5</td>\n",
       "      <td>E5</td>\n",
       "    </tr>\n",
       "  </tbody>\n",
       "</table>\n",
       "</div>"
      ],
      "text/plain": [
       "    B   C   D   E\n",
       "0  B1  C1  D1  E1\n",
       "1  B2  C2  D2  E2\n",
       "2  B3  C3  D3  E3\n",
       "3  B4  C4  D4  E4\n",
       "4  B5  C5  D5  E5"
      ]
     },
     "execution_count": 10,
     "metadata": {},
     "output_type": "execute_result"
    }
   ],
   "source": [
    "# Import pandas package \n",
    "import pandas as pd\n",
    "  \n",
    "# create a dictionary with five fields each \n",
    "data = {\n",
    "    'A':['A1', 'A2', 'A3', 'A4', 'A5'], \n",
    "    'B':['B1', 'B2', 'B3', 'B4', 'B5'], \n",
    "    'C':['C1', 'C2', 'C3', 'C4', 'C5'], \n",
    "    'D':['D1', 'D2', 'D3', 'D4', 'D5'], \n",
    "    'E':['E1', 'E2', 'E3', 'E4', 'E5'] }\n",
    "  \n",
    "# Convert the dictionary into DataFrame \n",
    "df = pd.DataFrame(data)\n",
    "for col in df.columns:\n",
    "    if 'A' in col:\n",
    "        del df[col]\n",
    "  \n",
    "df\n"
   ]
  },
  {
   "cell_type": "markdown",
   "id": "friendly-studio",
   "metadata": {},
   "source": [
    "# Explanation"
   ]
  },
  {
   "cell_type": "code",
   "execution_count": null,
   "id": "statistical-addiction",
   "metadata": {},
   "outputs": [],
   "source": [
    "1 = A = column is delete"
   ]
  },
  {
   "cell_type": "markdown",
   "id": "reported-watts",
   "metadata": {},
   "source": [
    "# Getting Unique values from a column in Pandas dataframe"
   ]
  },
  {
   "cell_type": "code",
   "execution_count": 11,
   "id": "short-dietary",
   "metadata": {},
   "outputs": [
    {
     "data": {
      "text/html": [
       "<div>\n",
       "<style scoped>\n",
       "    .dataframe tbody tr th:only-of-type {\n",
       "        vertical-align: middle;\n",
       "    }\n",
       "\n",
       "    .dataframe tbody tr th {\n",
       "        vertical-align: top;\n",
       "    }\n",
       "\n",
       "    .dataframe thead th {\n",
       "        text-align: right;\n",
       "    }\n",
       "</style>\n",
       "<table border=\"1\" class=\"dataframe\">\n",
       "  <thead>\n",
       "    <tr style=\"text-align: right;\">\n",
       "      <th></th>\n",
       "      <th>country</th>\n",
       "      <th>year</th>\n",
       "      <th>pop</th>\n",
       "      <th>continent</th>\n",
       "      <th>lifeExp</th>\n",
       "      <th>gdpPercap</th>\n",
       "    </tr>\n",
       "  </thead>\n",
       "  <tbody>\n",
       "    <tr>\n",
       "      <th>0</th>\n",
       "      <td>Afghanistan</td>\n",
       "      <td>1952</td>\n",
       "      <td>8425333.0</td>\n",
       "      <td>Asia</td>\n",
       "      <td>28.801</td>\n",
       "      <td>779.445314</td>\n",
       "    </tr>\n",
       "    <tr>\n",
       "      <th>1</th>\n",
       "      <td>Afghanistan</td>\n",
       "      <td>1957</td>\n",
       "      <td>9240934.0</td>\n",
       "      <td>Asia</td>\n",
       "      <td>30.332</td>\n",
       "      <td>820.853030</td>\n",
       "    </tr>\n",
       "    <tr>\n",
       "      <th>2</th>\n",
       "      <td>Afghanistan</td>\n",
       "      <td>1962</td>\n",
       "      <td>10267083.0</td>\n",
       "      <td>Asia</td>\n",
       "      <td>31.997</td>\n",
       "      <td>853.100710</td>\n",
       "    </tr>\n",
       "    <tr>\n",
       "      <th>3</th>\n",
       "      <td>Afghanistan</td>\n",
       "      <td>1967</td>\n",
       "      <td>11537966.0</td>\n",
       "      <td>Asia</td>\n",
       "      <td>34.020</td>\n",
       "      <td>836.197138</td>\n",
       "    </tr>\n",
       "    <tr>\n",
       "      <th>4</th>\n",
       "      <td>Afghanistan</td>\n",
       "      <td>1972</td>\n",
       "      <td>13079460.0</td>\n",
       "      <td>Asia</td>\n",
       "      <td>36.088</td>\n",
       "      <td>739.981106</td>\n",
       "    </tr>\n",
       "  </tbody>\n",
       "</table>\n",
       "</div>"
      ],
      "text/plain": [
       "       country  year         pop continent  lifeExp   gdpPercap\n",
       "0  Afghanistan  1952   8425333.0      Asia   28.801  779.445314\n",
       "1  Afghanistan  1957   9240934.0      Asia   30.332  820.853030\n",
       "2  Afghanistan  1962  10267083.0      Asia   31.997  853.100710\n",
       "3  Afghanistan  1967  11537966.0      Asia   34.020  836.197138\n",
       "4  Afghanistan  1972  13079460.0      Asia   36.088  739.981106"
      ]
     },
     "execution_count": 11,
     "metadata": {},
     "output_type": "execute_result"
    }
   ],
   "source": [
    "# import pandas as pd\n",
    "import pandas as pd\n",
    "  \n",
    "gapminder_csv_url ='http://bit.ly/2cLzoxH'\n",
    "# load the data with pd.read_csv\n",
    "record = pd.read_csv(gapminder_csv_url)\n",
    "  \n",
    "record.head()"
   ]
  },
  {
   "cell_type": "markdown",
   "id": "timely-edwards",
   "metadata": {},
   "source": [
    "# Explanation"
   ]
  },
  {
   "cell_type": "code",
   "execution_count": null,
   "id": "second-quest",
   "metadata": {},
   "outputs": [],
   "source": [
    " head = fisrt n rows "
   ]
  },
  {
   "cell_type": "code",
   "execution_count": 12,
   "id": "exact-reputation",
   "metadata": {},
   "outputs": [
    {
     "name": "stdout",
     "output_type": "stream",
     "text": [
      "['Asia' 'Europe' 'Africa' 'Americas' 'Oceania']\n"
     ]
    }
   ],
   "source": [
    "# import pandas as pd\n",
    "import pandas as pd\n",
    "  \n",
    "gapminder_csv_url ='http://bit.ly/2cLzoxH'\n",
    "# load the data with pd.read_csv\n",
    "record = pd.read_csv(gapminder_csv_url)\n",
    "  \n",
    "print(record['continent'].unique())"
   ]
  },
  {
   "cell_type": "markdown",
   "id": "documentary-found",
   "metadata": {},
   "source": [
    "# Explanation"
   ]
  },
  {
   "cell_type": "code",
   "execution_count": null,
   "id": "unnecessary-reference",
   "metadata": {},
   "outputs": [],
   "source": [
    "1 = to find the record \n",
    "2 = continents(unique)"
   ]
  },
  {
   "cell_type": "code",
   "execution_count": 13,
   "id": "african-public",
   "metadata": {},
   "outputs": [
    {
     "name": "stdout",
     "output_type": "stream",
     "text": [
      "['Afghanistan' 'Albania' 'Algeria' 'Angola' 'Argentina' 'Australia'\n",
      " 'Austria' 'Bahrain' 'Bangladesh' 'Belgium' 'Benin' 'Bolivia'\n",
      " 'Bosnia and Herzegovina' 'Botswana' 'Brazil' 'Bulgaria' 'Burkina Faso'\n",
      " 'Burundi' 'Cambodia' 'Cameroon' 'Canada' 'Central African Republic'\n",
      " 'Chad' 'Chile' 'China' 'Colombia' 'Comoros' 'Congo Dem. Rep.'\n",
      " 'Congo Rep.' 'Costa Rica' \"Cote d'Ivoire\" 'Croatia' 'Cuba'\n",
      " 'Czech Republic' 'Denmark' 'Djibouti' 'Dominican Republic' 'Ecuador'\n",
      " 'Egypt' 'El Salvador' 'Equatorial Guinea' 'Eritrea' 'Ethiopia' 'Finland'\n",
      " 'France' 'Gabon' 'Gambia' 'Germany' 'Ghana' 'Greece' 'Guatemala' 'Guinea'\n",
      " 'Guinea-Bissau' 'Haiti' 'Honduras' 'Hong Kong China' 'Hungary' 'Iceland'\n",
      " 'India' 'Indonesia' 'Iran' 'Iraq' 'Ireland' 'Israel' 'Italy' 'Jamaica'\n",
      " 'Japan' 'Jordan' 'Kenya' 'Korea Dem. Rep.' 'Korea Rep.' 'Kuwait'\n",
      " 'Lebanon' 'Lesotho' 'Liberia' 'Libya' 'Madagascar' 'Malawi' 'Malaysia'\n",
      " 'Mali' 'Mauritania' 'Mauritius' 'Mexico' 'Mongolia' 'Montenegro'\n",
      " 'Morocco' 'Mozambique' 'Myanmar' 'Namibia' 'Nepal' 'Netherlands'\n",
      " 'New Zealand' 'Nicaragua' 'Niger' 'Nigeria' 'Norway' 'Oman' 'Pakistan'\n",
      " 'Panama' 'Paraguay' 'Peru' 'Philippines' 'Poland' 'Portugal'\n",
      " 'Puerto Rico' 'Reunion' 'Romania' 'Rwanda' 'Sao Tome and Principe'\n",
      " 'Saudi Arabia' 'Senegal' 'Serbia' 'Sierra Leone' 'Singapore'\n",
      " 'Slovak Republic' 'Slovenia' 'Somalia' 'South Africa' 'Spain' 'Sri Lanka'\n",
      " 'Sudan' 'Swaziland' 'Sweden' 'Switzerland' 'Syria' 'Taiwan' 'Tanzania'\n",
      " 'Thailand' 'Togo' 'Trinidad and Tobago' 'Tunisia' 'Turkey' 'Uganda'\n",
      " 'United Kingdom' 'United States' 'Uruguay' 'Venezuela' 'Vietnam'\n",
      " 'West Bank and Gaza' 'Yemen Rep.' 'Zambia' 'Zimbabwe']\n"
     ]
    }
   ],
   "source": [
    "# import pandas as pd\n",
    "import pandas as pd\n",
    "  \n",
    "gapminder_csv_url ='http://bit.ly/2cLzoxH'\n",
    "  \n",
    "# load the data with pd.read_csv\n",
    "record = pd.read_csv(gapminder_csv_url)\n",
    "  \n",
    "print(record.country.unique())"
   ]
  },
  {
   "cell_type": "markdown",
   "id": "young-smell",
   "metadata": {},
   "source": [
    "# Explanation"
   ]
  },
  {
   "cell_type": "code",
   "execution_count": null,
   "id": "distinguished-engineering",
   "metadata": {},
   "outputs": [],
   "source": [
    "1 = to find the unique record (country)"
   ]
  },
  {
   "cell_type": "code",
   "execution_count": 14,
   "id": "preliminary-hours",
   "metadata": {},
   "outputs": [
    {
     "name": "stdout",
     "output_type": "stream",
     "text": [
      "['Asia' 'Europe' 'Africa' 'Americas' 'Oceania']\n"
     ]
    }
   ],
   "source": [
    "# Write Python3 code here\n",
    "# import pandas as pd\n",
    "import pandas as pd\n",
    "  \n",
    "gapminder_csv_url ='http://bit.ly/2cLzoxH'\n",
    "  \n",
    "# load the data with pd.read_csv\n",
    "record = pd.read_csv(gapminder_csv_url)\n",
    "  \n",
    "print(pd.unique(record['continent']))"
   ]
  },
  {
   "cell_type": "markdown",
   "id": "excited-relay",
   "metadata": {},
   "source": [
    "# Explanation"
   ]
  },
  {
   "cell_type": "code",
   "execution_count": null,
   "id": "official-witness",
   "metadata": {},
   "outputs": [],
   "source": [
    "1 = import in pandas \n",
    "2 = to find the unique record (continents)  "
   ]
  },
  {
   "cell_type": "markdown",
   "id": "respective-registration",
   "metadata": {},
   "source": [
    "# Create a new column in Pandas DataFrame based on the existing columns"
   ]
  },
  {
   "cell_type": "code",
   "execution_count": 15,
   "id": "preceding-disney",
   "metadata": {},
   "outputs": [
    {
     "name": "stdout",
     "output_type": "stream",
     "text": [
      "        Date    Event   Cost\n",
      "0  10/2/2011    Music  10000\n",
      "1  11/2/2011   Poetry   5000\n",
      "2  12/2/2011  Theatre  15000\n",
      "3  13/2/2011   Comedy   2000\n"
     ]
    }
   ],
   "source": [
    "# importing pandas as pd\n",
    "import pandas as pd\n",
    "  \n",
    "# Creating the DataFrame\n",
    "df = pd.DataFrame({'Date':['10/2/2011', '11/2/2011', '12/2/2011', '13/2/2011'],\n",
    "                    'Event':['Music', 'Poetry', 'Theatre', 'Comedy'],\n",
    "                    'Cost':[10000, 5000, 15000, 2000]})\n",
    "  \n",
    "# Print the dataframe\n",
    "print(df)"
   ]
  },
  {
   "cell_type": "markdown",
   "id": "governing-anderson",
   "metadata": {},
   "source": [
    "# Explanation"
   ]
  },
  {
   "cell_type": "code",
   "execution_count": null,
   "id": "coated-friday",
   "metadata": {},
   "outputs": [],
   "source": [
    "1 = import in pandas \n",
    "2 = create a dataframe \n",
    "3 = index \n",
    "3 = rows , columns."
   ]
  },
  {
   "cell_type": "code",
   "execution_count": 16,
   "id": "silver-radar",
   "metadata": {},
   "outputs": [
    {
     "name": "stdout",
     "output_type": "stream",
     "text": [
      "        Date    Event   Cost  Discounted_Price\n",
      "0  10/2/2011    Music  10000            9000.0\n",
      "1  11/2/2011   Poetry   5000            4500.0\n",
      "2  12/2/2011  Theatre  15000           13500.0\n",
      "3  13/2/2011   Comedy   2000            1800.0\n"
     ]
    }
   ],
   "source": [
    "# using apply function to create a new column\n",
    "df['Discounted_Price'] = df.apply(lambda row: row.Cost - \n",
    "                                  (row.Cost * 0.1), axis = 1)\n",
    "  \n",
    "# Print the DataFrame after addition\n",
    "# of new column\n",
    "print(df)"
   ]
  },
  {
   "cell_type": "markdown",
   "id": "animated-cookbook",
   "metadata": {},
   "source": [
    "# Explanation"
   ]
  },
  {
   "cell_type": "code",
   "execution_count": null,
   "id": "balanced-thinking",
   "metadata": {},
   "outputs": [],
   "source": [
    "1 = the axis in apply is 0 , then lambda fnction apply to each column,and 1 then apply to each row.\n",
    "2 = print the dataframe after addition "
   ]
  },
  {
   "cell_type": "markdown",
   "id": "continental-viking",
   "metadata": {},
   "source": [
    "# Capitalize first letter of a column in Pandas dataframe"
   ]
  },
  {
   "cell_type": "code",
   "execution_count": 17,
   "id": "excessive-figure",
   "metadata": {},
   "outputs": [
    {
     "data": {
      "text/html": [
       "<div>\n",
       "<style scoped>\n",
       "    .dataframe tbody tr th:only-of-type {\n",
       "        vertical-align: middle;\n",
       "    }\n",
       "\n",
       "    .dataframe tbody tr th {\n",
       "        vertical-align: top;\n",
       "    }\n",
       "\n",
       "    .dataframe thead th {\n",
       "        text-align: right;\n",
       "    }\n",
       "</style>\n",
       "<table border=\"1\" class=\"dataframe\">\n",
       "  <thead>\n",
       "    <tr style=\"text-align: right;\">\n",
       "      <th></th>\n",
       "      <th>A</th>\n",
       "      <th>B</th>\n",
       "      <th>C</th>\n",
       "    </tr>\n",
       "  </thead>\n",
       "  <tbody>\n",
       "    <tr>\n",
       "      <th>0</th>\n",
       "      <td>john</td>\n",
       "      <td>masters</td>\n",
       "      <td>27</td>\n",
       "    </tr>\n",
       "    <tr>\n",
       "      <th>1</th>\n",
       "      <td>bODAY</td>\n",
       "      <td>graduate</td>\n",
       "      <td>23</td>\n",
       "    </tr>\n",
       "    <tr>\n",
       "      <th>2</th>\n",
       "      <td>minA</td>\n",
       "      <td>graduate</td>\n",
       "      <td>21</td>\n",
       "    </tr>\n",
       "    <tr>\n",
       "      <th>3</th>\n",
       "      <td>Peter</td>\n",
       "      <td>Masters</td>\n",
       "      <td>23</td>\n",
       "    </tr>\n",
       "    <tr>\n",
       "      <th>4</th>\n",
       "      <td>nicky</td>\n",
       "      <td>Graduate</td>\n",
       "      <td>24</td>\n",
       "    </tr>\n",
       "  </tbody>\n",
       "</table>\n",
       "</div>"
      ],
      "text/plain": [
       "       A         B   C\n",
       "0   john   masters  27\n",
       "1  bODAY  graduate  23\n",
       "2   minA  graduate  21\n",
       "3  Peter   Masters  23\n",
       "4  nicky  Graduate  24"
      ]
     },
     "execution_count": 17,
     "metadata": {},
     "output_type": "execute_result"
    }
   ],
   "source": [
    "# Create a simple dataframe\n",
    "   \n",
    "# importing pandas as pd\n",
    "import pandas as pd\n",
    "  \n",
    "   \n",
    "# creating a dataframe\n",
    "df = pd.DataFrame({'A': ['john', 'bODAY', 'minA', 'Peter', 'nicky'],\n",
    "                  'B': ['masters', 'graduate', 'graduate',\n",
    "                                   'Masters', 'Graduate'],\n",
    "                  'C': [27, 23, 21, 23, 24]})\n",
    "   \n",
    "df"
   ]
  },
  {
   "cell_type": "markdown",
   "id": "broke-state",
   "metadata": {},
   "source": [
    "# Explanation"
   ]
  },
  {
   "cell_type": "code",
   "execution_count": null,
   "id": "buried-climate",
   "metadata": {},
   "outputs": [],
   "source": [
    "1 = import in pandas \n",
    "2 = create a dataframe \n",
    "3 = str.capitalize method which which helps to convert th first latter of given series in capital .\n",
    "   "
   ]
  },
  {
   "cell_type": "code",
   "execution_count": 18,
   "id": "anonymous-trail",
   "metadata": {},
   "outputs": [
    {
     "data": {
      "text/html": [
       "<div>\n",
       "<style scoped>\n",
       "    .dataframe tbody tr th:only-of-type {\n",
       "        vertical-align: middle;\n",
       "    }\n",
       "\n",
       "    .dataframe tbody tr th {\n",
       "        vertical-align: top;\n",
       "    }\n",
       "\n",
       "    .dataframe thead th {\n",
       "        text-align: right;\n",
       "    }\n",
       "</style>\n",
       "<table border=\"1\" class=\"dataframe\">\n",
       "  <thead>\n",
       "    <tr style=\"text-align: right;\">\n",
       "      <th></th>\n",
       "      <th>A</th>\n",
       "      <th>B</th>\n",
       "      <th>C</th>\n",
       "    </tr>\n",
       "  </thead>\n",
       "  <tbody>\n",
       "    <tr>\n",
       "      <th>0</th>\n",
       "      <td>John</td>\n",
       "      <td>masters</td>\n",
       "      <td>27</td>\n",
       "    </tr>\n",
       "    <tr>\n",
       "      <th>1</th>\n",
       "      <td>Boday</td>\n",
       "      <td>graduate</td>\n",
       "      <td>23</td>\n",
       "    </tr>\n",
       "    <tr>\n",
       "      <th>2</th>\n",
       "      <td>Mina</td>\n",
       "      <td>graduate</td>\n",
       "      <td>21</td>\n",
       "    </tr>\n",
       "    <tr>\n",
       "      <th>3</th>\n",
       "      <td>Peter</td>\n",
       "      <td>Masters</td>\n",
       "      <td>23</td>\n",
       "    </tr>\n",
       "    <tr>\n",
       "      <th>4</th>\n",
       "      <td>Nicky</td>\n",
       "      <td>Graduate</td>\n",
       "      <td>24</td>\n",
       "    </tr>\n",
       "  </tbody>\n",
       "</table>\n",
       "</div>"
      ],
      "text/plain": [
       "       A         B   C\n",
       "0   John   masters  27\n",
       "1  Boday  graduate  23\n",
       "2   Mina  graduate  21\n",
       "3  Peter   Masters  23\n",
       "4  Nicky  Graduate  24"
      ]
     },
     "execution_count": 18,
     "metadata": {},
     "output_type": "execute_result"
    }
   ],
   "source": [
    "# Create a simple dataframe\n",
    "   \n",
    "# importing pandas as pd\n",
    "import pandas as pd\n",
    "  \n",
    "   \n",
    "# creating a dataframe\n",
    "df = pd.DataFrame({'A': ['john', 'bODAY', 'minA', 'Peter', 'nicky'],\n",
    "                  'B': ['masters', 'graduate', 'graduate',\n",
    "                                   'Masters', 'Graduate'],\n",
    "                  'C': [27, 23, 21, 23, 24]})\n",
    "   \n",
    "df['A'] = df['A'].str.capitalize()\n",
    "  \n",
    "df"
   ]
  },
  {
   "cell_type": "markdown",
   "id": "urban-upset",
   "metadata": {},
   "source": [
    "# Explanation"
   ]
  },
  {
   "cell_type": "code",
   "execution_count": null,
   "id": "changing-lawyer",
   "metadata": {},
   "outputs": [],
   "source": [
    "1 = import in pandas \n",
    "2 = create a dataframe \n",
    "3 = str.capitalize method which which helps to convert th first latter of given series in capital ."
   ]
  },
  {
   "cell_type": "code",
   "execution_count": 19,
   "id": "color-conservative",
   "metadata": {},
   "outputs": [
    {
     "data": {
      "text/plain": [
       "0     John\n",
       "1    Boday\n",
       "2     Mina\n",
       "3    Peter\n",
       "4    Nicky\n",
       "Name: A, dtype: object"
      ]
     },
     "execution_count": 19,
     "metadata": {},
     "output_type": "execute_result"
    }
   ],
   "source": [
    "# importing pandas as pd\n",
    "import pandas as pd\n",
    "  \n",
    "   \n",
    "# creating a dataframe\n",
    "df = pd.DataFrame({'A': ['john', 'bODAY', 'minA', 'Peter', 'nicky'],\n",
    "                  'B': ['masters', 'graduate', 'graduate',\n",
    "                                   'Masters', 'Graduate'],\n",
    "                  'C': [27, 23, 21, 23, 24]})\n",
    "   \n",
    "df['A'].apply(lambda x: x.capitalize())"
   ]
  },
  {
   "cell_type": "markdown",
   "id": "dense-updating",
   "metadata": {},
   "source": [
    "# Explanation"
   ]
  },
  {
   "cell_type": "code",
   "execution_count": null,
   "id": "everyday-steering",
   "metadata": {},
   "outputs": [],
   "source": [
    "1 =import in pandas \n",
    "2 = create a dataframe \n",
    "3 = the axis in apply is 0 , then lambda fnction apply to each column,and 1 then apply to each row."
   ]
  }
 ],
 "metadata": {
  "kernelspec": {
   "display_name": "Python 3",
   "language": "python",
   "name": "python3"
  },
  "language_info": {
   "codemirror_mode": {
    "name": "ipython",
    "version": 3
   },
   "file_extension": ".py",
   "mimetype": "text/x-python",
   "name": "python",
   "nbconvert_exporter": "python",
   "pygments_lexer": "ipython3",
   "version": "3.9.2"
  }
 },
 "nbformat": 4,
 "nbformat_minor": 5
}
